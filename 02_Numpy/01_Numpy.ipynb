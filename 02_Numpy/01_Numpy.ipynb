{
 "cells": [
  {
   "attachments": {},
   "cell_type": "markdown",
   "metadata": {},
   "source": [
    "# Numpy\n",
    "\n",
    "> pip install numpy"
   ]
  },
  {
   "cell_type": "code",
   "execution_count": 4,
   "metadata": {},
   "outputs": [],
   "source": [
    "import numpy as np"
   ]
  },
  {
   "cell_type": "code",
   "execution_count": 5,
   "metadata": {},
   "outputs": [],
   "source": [
    "import sys\n",
    "import time"
   ]
  },
  {
   "attachments": {},
   "cell_type": "markdown",
   "metadata": {},
   "source": [
    "# Compare native Python List with Numpy \n",
    "\n",
    "\n",
    "## 1. Memory Size\n",
    "\n",
    "Normaly an integer variable takes 4x bytes -> 100x integers = 400x Bytes\n",
    "\n",
    "Numpy consumes lower memory than python list\n"
   ]
  },
  {
   "cell_type": "code",
   "execution_count": 6,
   "metadata": {},
   "outputs": [
    {
     "name": "stdout",
     "output_type": "stream",
     "text": [
      "2800\n",
      "400\n"
     ]
    }
   ],
   "source": [
    "SIZE = 100\n",
    "\n",
    "# Create Python List with 100x Integers\n",
    "mylist = range(SIZE)\n",
    "print(sys.getsizeof(5)  * SIZE  ) # 2800\n",
    "\n",
    "\n",
    "# Create a Numpy Array\n",
    "numpy_Array = np.array(SIZE)\n",
    "print(numpy_Array.itemsize * SIZE) # 400x Bytes  ( 4x Bytes/Integer * 100)"
   ]
  },
  {
   "attachments": {},
   "cell_type": "markdown",
   "metadata": {},
   "source": [
    "## Execution Time\n",
    "\n",
    "Numpy is much faster than native python lists"
   ]
  },
  {
   "cell_type": "code",
   "execution_count": 7,
   "metadata": {},
   "outputs": [
    {
     "name": "stdout",
     "output_type": "stream",
     "text": [
      "Python Time: 133.9569091796875\n"
     ]
    }
   ],
   "source": [
    "SIZE = 1000000 # x Integers\n",
    "\n",
    "# Create Python lists \n",
    "mylist1 = range(SIZE)\n",
    "mylist2 = range(SIZE)\n",
    "\n",
    "start_time = time.time() \n",
    "result = [ (x+y)  for x, y in zip(mylist1, mylist2)] # sum between mylist1 and mylist2\n",
    "end_time = time.time()\n",
    "\n",
    "print(\"Python Time:\" , (end_time - start_time) * 1000) # 1000 for the precision"
   ]
  },
  {
   "cell_type": "code",
   "execution_count": 8,
   "metadata": {},
   "outputs": [
    {
     "name": "stdout",
     "output_type": "stream",
     "text": [
      "Numpy Time: 9.541749954223633\n"
     ]
    }
   ],
   "source": [
    "# Create Numpy Arrays\n",
    "\n",
    "array1 = np.arange(SIZE)\n",
    "array2 = np.arange(SIZE)\n",
    "\n",
    "start_time = time.time()\n",
    "result = array1 + array2 \n",
    "end_time = time.time()\n",
    "\n",
    "print(\"Numpy Time:\" , (end_time - start_time) * 1000)"
   ]
  },
  {
   "attachments": {},
   "cell_type": "markdown",
   "metadata": {},
   "source": [
    "# Define Arrays"
   ]
  },
  {
   "cell_type": "code",
   "execution_count": 12,
   "metadata": {},
   "outputs": [
    {
     "name": "stdout",
     "output_type": "stream",
     "text": [
      "[1, 2, 3, 4, 5] <class 'list'>\n",
      "[1 2 3 4 5] <class 'numpy.ndarray'>\n",
      "[1 2 3 4 5] <class 'numpy.ndarray'>\n",
      "[[1 2]\n",
      " [3 4]] <class 'numpy.ndarray'>\n"
     ]
    }
   ],
   "source": [
    "# 1. via a python native list\n",
    "mylist = [1, 2 ,3,4,5]\n",
    "print(mylist,type(mylist))\n",
    "\n",
    "\n",
    "array = np.array(mylist)\n",
    "print(array, type(array))\n",
    "\n",
    "# 2. Define directly one dimernsional\n",
    "array_1 = np.array([1,2,3,4,5])\n",
    "print(array_1, type(array1))\n",
    "\n",
    "\n",
    "# 2. Define multi dimernsional array\n",
    "array_2 = np.array([ [1, 2 ] , [3, 4 ]   ])\n",
    "print(array_2, type(array_2))"
   ]
  },
  {
   "cell_type": "code",
   "execution_count": 15,
   "metadata": {},
   "outputs": [
    {
     "name": "stdout",
     "output_type": "stream",
     "text": [
      "[1. 2. 3. 4. 5.]\n",
      "[1 2 3 4 5]\n",
      "[1.+0.j 2.+0.j 3.+0.j 4.+0.j 5.+0.j]\n"
     ]
    },
    {
     "name": "stderr",
     "output_type": "stream",
     "text": [
      "C:\\Users\\M\\AppData\\Local\\Temp\\ipykernel_11428\\786061516.py:9: DeprecationWarning: `np.complex` is a deprecated alias for the builtin `complex`. To silence this warning, use `complex` by itself. Doing this will not modify any behavior and is safe. If you specifically wanted the numpy scalar type, use `np.complex128` here.\n",
      "Deprecated in NumPy 1.20; for more details and guidance: https://numpy.org/devdocs/release/1.20.0-notes.html#deprecations\n",
      "  array_1 = np.array([1,2,3,4,5], dtype = np.complex) # complex zahlen\n"
     ]
    }
   ],
   "source": [
    "# Define with specific data types\n",
    "array_1 = np.array([1,2,3,4,5], dtype = np.float64) # 8x Bytes float\n",
    "print(array_1)\n",
    "\n",
    "\n",
    "array_1 = np.array([1,2,3,4,5], dtype = np.int32) # 4x Bytes int\n",
    "print(array_1)\n",
    "\n",
    "array_1 = np.array([1,2,3,4,5], dtype = np.complex) # complex zahlen\n",
    "print(array_1)"
   ]
  },
  {
   "attachments": {},
   "cell_type": "markdown",
   "metadata": {},
   "source": [
    "# Array Information"
   ]
  },
  {
   "cell_type": "code",
   "execution_count": 23,
   "metadata": {},
   "outputs": [
    {
     "name": "stdout",
     "output_type": "stream",
     "text": [
      "[1 2 3 4 5]\n",
      "1\n",
      "(5,)\n",
      "5\n",
      "int32\n",
      "4\n"
     ]
    }
   ],
   "source": [
    "# Information for single dimensional array\n",
    "array_1 = np.array([1,2,3,4,5])\n",
    "print(array_1)\n",
    "\n",
    "\n",
    "\n",
    "print(array_1.ndim) # 1  -> 1x vector with 5x items\n",
    "print(array_1.shape) # (5,) --> 5x items in a vector\n",
    "print(array_1.size) # 5x , count of items --> \n",
    "print(array_1.dtype) # Data Type> \n",
    "print(array_1.itemsize) # 4x Bytes for each item\n",
    "\n"
   ]
  },
  {
   "cell_type": "code",
   "execution_count": 30,
   "metadata": {},
   "outputs": [
    {
     "name": "stdout",
     "output_type": "stream",
     "text": [
      "[[1 2]\n",
      " [3 4]\n",
      " [5 6]]\n",
      "2\n",
      "(3, 2)\n",
      "6\n",
      "int32\n",
      "4\n"
     ]
    }
   ],
   "source": [
    "# multi- dimensional array\n",
    "array_2 = np.array([ [1, 2 ] , [3, 4 ] , [5, 6]  ])\n",
    "print(array_2)\n",
    "\n",
    "\n",
    "print(array_2.ndim) # 2x dimensions\n",
    "print(array_2.shape) # (3, 2)  3x rows , 2x columns\n",
    "print(array_2.size)  # 6 -> count of items\n",
    "print(array_2.dtype)  # 6 -> Int32\n",
    "print(array_2.itemsize)  # 4x Bytes for each item"
   ]
  },
  {
   "attachments": {},
   "cell_type": "markdown",
   "metadata": {},
   "source": [
    "# Mathematical Operations"
   ]
  },
  {
   "cell_type": "code",
   "execution_count": 32,
   "metadata": {},
   "outputs": [
    {
     "name": "stdout",
     "output_type": "stream",
     "text": [
      "[ 1  3  5  7  9 11 13 15 17 19]\n",
      "[-1 -1 -1 -1 -1 -1 -1 -1 -1 -1]\n",
      "[ 0  2  6 12 20 30 42 56 72 90]\n",
      "[0.         0.5        0.66666667 0.75       0.8        0.83333333\n",
      " 0.85714286 0.875      0.88888889 0.9       ]\n",
      "[0.         1.         1.41421356 1.73205081 2.         2.23606798\n",
      " 2.44948974 2.64575131 2.82842712 3.        ]\n"
     ]
    }
   ],
   "source": [
    "a = np.arange(10)  # -> 0 - 9\n",
    "b = np.arange(1, 11)  # -> 1 - 10\n",
    "\n",
    "print(a + b)\n",
    "print(a - b)\n",
    "print(a * b)\n",
    "print(a / b)\n",
    "\n",
    "# Numpy Function\n",
    "print(np.sqrt(a)) # Wurzel"
   ]
  },
  {
   "attachments": {},
   "cell_type": "markdown",
   "metadata": {},
   "source": [
    "# Functions"
   ]
  },
  {
   "cell_type": "code",
   "execution_count": 40,
   "metadata": {},
   "outputs": [
    {
     "name": "stdout",
     "output_type": "stream",
     "text": [
      "45\n",
      "0\n",
      "9\n",
      "4.5\n",
      "21\n",
      "[ 9 12]\n",
      "[ 3  7 11]\n",
      "\n",
      "[  1   2   5   5   8   9  12  13  90 356]\n",
      "[ 5.    3.3   2.12  5.15 76.78  8.88]\n"
     ]
    }
   ],
   "source": [
    "a = np.arange(10)  # -> 0 - 9\n",
    "b = np.arange(1, 11)  # -> 1 - 10\n",
    "c = np.array( [   [1,2], \n",
    "                  [3,4], \n",
    "                  [5,6]   \n",
    "              ])\n",
    "\n",
    "\n",
    "# Array functions\n",
    "print(a.sum()) \n",
    "print(a.min()) \n",
    "print(a.max()) \n",
    "print(a.mean()) # average\n",
    "print(c.sum()) # 1 + 2+ 3 + 4 + 5+ 6\n",
    "\n",
    "# Advanced Sum\n",
    "\"\"\" \n",
    "axis= 0 --> columns\n",
    "axis= 1 --> rows\n",
    "\"\"\"\n",
    "print(c.sum(axis = 0)) # column-wise [ 9 12]\n",
    "print(c.sum(axis = 1)) # row-wise [ 3  7 11]\n",
    "\n",
    "print() \n",
    "\n",
    "# Sorting\n",
    "a = np.array([ 5, 8, 2, 5,9,12,1,90,356,13 ])\n",
    "a.sort()\n",
    "print(a)\n",
    "\n",
    "\n",
    "# Rounding \n",
    "a = np.array([5.0, 3.3, 2.123, 5.1547, 76.781, 8.8782 ])\n",
    "print(a.round(decimals= 2))\n",
    "\n",
    "\n"
   ]
  },
  {
   "attachments": {},
   "cell_type": "markdown",
   "metadata": {},
   "source": [
    "# Accessing Items --> Slicing"
   ]
  },
  {
   "cell_type": "code",
   "execution_count": 47,
   "metadata": {},
   "outputs": [
    {
     "name": "stdout",
     "output_type": "stream",
     "text": [
      "(3, 2)\n",
      "[1 2]\n",
      "[3 4]\n",
      "[5 6]\n",
      "[[5 6]\n",
      " [3 4]\n",
      " [1 2]]\n",
      "4\n",
      "[[2]\n",
      " [4]]\n"
     ]
    }
   ],
   "source": [
    "c = np.array( [   [1,2], \n",
    "                  [3,4], \n",
    "                  [5,6]   \n",
    "              ])\n",
    "\n",
    "\n",
    "print(c.shape)\n",
    "\n",
    "print(c[0]) # [1,2]\n",
    "print(c[1]) # [3,4]\n",
    "print(c[-1]) #  [5,6]  \n",
    "\n",
    "\n",
    "print(c[::-1]) #  rückwerts\n",
    "\n",
    "\n",
    "# Specific Item (R, C)\n",
    "print(c[1, 1])\n",
    "\n",
    "# Range of items (R, C)\n",
    "print(c[ 0:2  ,  1:2  ])"
   ]
  },
  {
   "attachments": {},
   "cell_type": "markdown",
   "metadata": {},
   "source": [
    "# Generate Data"
   ]
  },
  {
   "cell_type": "code",
   "execution_count": 97,
   "metadata": {},
   "outputs": [
    {
     "name": "stdout",
     "output_type": "stream",
     "text": [
      "[ 0  1  2  3  4  5  6  7  8  9 10 11 12 13 14 15 16 17 18 19 20 21 22 23\n",
      " 24 25 26 27 28 29]\n",
      "[10 11 12 13 14 15 16 17 18 19 20 21 22 23 24 25 26 27 28 29]\n",
      "[[0. 0. 0. 0.]\n",
      " [0. 0. 0. 0.]\n",
      " [0. 0. 0. 0.]]\n",
      "[[1. 1. 1. 1.]\n",
      " [1. 1. 1. 1.]\n",
      " [1. 1. 1. 1.]]\n",
      "[[5 5 5 5]\n",
      " [5 5 5 5]\n",
      " [5 5 5 5]]\n",
      "[1.         1.08163265 1.16326531 1.24489796 1.32653061 1.40816327\n",
      " 1.48979592 1.57142857 1.65306122 1.73469388 1.81632653 1.89795918\n",
      " 1.97959184 2.06122449 2.14285714 2.2244898  2.30612245 2.3877551\n",
      " 2.46938776 2.55102041 2.63265306 2.71428571 2.79591837 2.87755102\n",
      " 2.95918367 3.04081633 3.12244898 3.20408163 3.28571429 3.36734694\n",
      " 3.44897959 3.53061224 3.6122449  3.69387755 3.7755102  3.85714286\n",
      " 3.93877551 4.02040816 4.10204082 4.18367347 4.26530612 4.34693878\n",
      " 4.42857143 4.51020408 4.59183673 4.67346939 4.75510204 4.83673469\n",
      " 4.91836735 5.        ]\n",
      "[[1. 0. 0. 0. 0.]\n",
      " [0. 1. 0. 0. 0.]\n",
      " [0. 0. 1. 0. 0.]\n",
      " [0. 0. 0. 1. 0.]\n",
      " [0. 0. 0. 0. 1.]]\n"
     ]
    }
   ],
   "source": [
    "a = np.arange(30) # 0-29\n",
    "b = np.arange(10,30) # 10-29\n",
    "\n",
    "print(a)\n",
    "print(b)\n",
    "\n",
    "\n",
    "zeros = np.zeros( (3,4)  ) # only Zero , 3x rows , 4x columns\n",
    "print(zeros)\n",
    "\n",
    "ones = np.ones( (3,4)  ) #only 1 , 3x rows , 4x columns\n",
    "print(ones)\n",
    "\n",
    "numbers = np.full( (3,4),  5 ) # certain value, 3x rows , 4x columns\n",
    "print(numbers)\n",
    "\n",
    "\n",
    "# Equaly spaced \n",
    "numbers = np.linspace(1, 5 , 50) # 50x numbers between 1 and 5 , equal spaced\n",
    "print(numbers)\n",
    "\n",
    "\n",
    "\n",
    "# Identity Matrix\n",
    "numbers = np.eye(5) # Identity Matrix\n",
    "print(numbers)\n"
   ]
  },
  {
   "attachments": {},
   "cell_type": "markdown",
   "metadata": {},
   "source": [
    "# Reshaping /Shaping\n",
    "\n",
    "- Convert the shape of an array to another **compatible** shape"
   ]
  },
  {
   "cell_type": "code",
   "execution_count": 58,
   "metadata": {},
   "outputs": [
    {
     "name": "stdout",
     "output_type": "stream",
     "text": [
      "Before Reshaping: \n",
      "[[1 2]\n",
      " [3 4]\n",
      " [5 6]] (3, 2)\n",
      "After Reshaping 1: \n",
      "[[1 2 3]\n",
      " [4 5 6]] (2, 3)\n",
      "After Reshaping 2: \n",
      "[[1]\n",
      " [2]\n",
      " [3]\n",
      " [4]\n",
      " [5]\n",
      " [6]] (6, 1)\n",
      "After Reshaping 3: \n",
      "[1 2 3 4 5 6] (6,)\n"
     ]
    }
   ],
   "source": [
    "a = np.array( [   [1,2], \n",
    "                  [3,4], \n",
    "                  [5,6]   \n",
    "              ])\n",
    "\n",
    "print(\"Before Reshaping: \")\n",
    "print(a, a.shape) # (3, 2)\n",
    "\n",
    "\n",
    "# 1. Reshapre to 2x3\n",
    "print(\"After Reshaping 1: \")\n",
    "b = a.reshape(2, 3)\n",
    "print(b, b.shape)\n",
    "\n",
    "\n",
    "# 2. Reshapre to 6x1\n",
    "print(\"After Reshaping 2: \")\n",
    "c = a.reshape(6,1)\n",
    "print(c, c.shape)\n",
    "\n",
    "\n",
    "# 3. Reshape to a vector without column \n",
    "print(\"After Reshaping 3: \")\n",
    "d = a.reshape(6,)\n",
    "print(d, d.shape)\n",
    "\n"
   ]
  },
  {
   "attachments": {},
   "cell_type": "markdown",
   "metadata": {},
   "source": [
    "# Flattern\n",
    "\n",
    "alternative to a.shape(6,)"
   ]
  },
  {
   "cell_type": "code",
   "execution_count": 60,
   "metadata": {},
   "outputs": [
    {
     "name": "stdout",
     "output_type": "stream",
     "text": [
      "[[1 2]\n",
      " [3 4]\n",
      " [5 6]] (3, 2)\n",
      "[1 2 3 4 5 6] (6,)\n"
     ]
    }
   ],
   "source": [
    "a = np.array( [   [1,2], \n",
    "                  [3,4], \n",
    "                  [5,6]   \n",
    "              ])\n",
    "\n",
    "print(a, a.shape)\n",
    "\n",
    "\n",
    "result = a.ravel()  # [1 2 3 4 5 6] (6,)\n",
    "print(result, result.shape)"
   ]
  },
  {
   "attachments": {},
   "cell_type": "markdown",
   "metadata": {},
   "source": [
    "# Random"
   ]
  },
  {
   "cell_type": "code",
   "execution_count": 61,
   "metadata": {},
   "outputs": [],
   "source": [
    "from numpy import random"
   ]
  },
  {
   "cell_type": "code",
   "execution_count": 80,
   "metadata": {},
   "outputs": [
    {
     "name": "stdout",
     "output_type": "stream",
     "text": [
      "31 <class 'int'>\n",
      "[97 82 36 23 16] <class 'numpy.ndarray'>\n",
      "[80.27335239 91.6041515  55.30779257 83.36132213 13.29693704] <class 'numpy.ndarray'>\n",
      "[[91 66 13]\n",
      " [39 90 35]] <class 'numpy.ndarray'>\n",
      "[[51.89701906 64.58203573 77.56331422]\n",
      " [37.24588972  6.52146938 52.42002143]] <class 'numpy.ndarray'>\n"
     ]
    }
   ],
   "source": [
    "# single random integer\n",
    "x = random.randint(100)\n",
    "print(x, type(x))\n",
    "\n",
    "\n",
    "\n",
    "# 1x dim random array with integers\n",
    "x = random.randint(100, size = (5,))\n",
    "print(x, type(x))\n",
    "\n",
    "\n",
    "# 1x dim random array with floats\n",
    "x = random.uniform(100, size = (5,))\n",
    "print(x, type(x))\n",
    "\n",
    "\n",
    "# nx dim random array with integers\n",
    "x = random.randint(100, size = (2 , 3))\n",
    "print(x, type(x))\n",
    "\n",
    "# nx dim random array with floats\n",
    "x = random.uniform(100, size = (2 , 3))\n",
    "print(x, type(x))"
   ]
  },
  {
   "cell_type": "code",
   "execution_count": 79,
   "metadata": {},
   "outputs": [
    {
     "name": "stdout",
     "output_type": "stream",
     "text": [
      "4 <class 'numpy.int32'>\n",
      "[7 7 3] <class 'numpy.ndarray'>\n",
      "[[2 3 9 9]\n",
      " [2 3 4 8]\n",
      " [1 7 7 7]] <class 'numpy.ndarray'>\n"
     ]
    }
   ],
   "source": [
    "mylist = [1,2,3,4,5,6,7,8,9]\n",
    "\n",
    "# Single choice \n",
    "x = random.choice(mylist)\n",
    "print(x, type(x))\n",
    "\n",
    "# 3x choices\n",
    "x = random.choice(mylist, size= (3,))\n",
    "print(x, type(x))\n",
    "\n",
    "\n",
    "# 3x choices - multi dimensional\n",
    "x = random.choice(mylist, size= (3,4))\n",
    "print(x, type(x))"
   ]
  },
  {
   "attachments": {},
   "cell_type": "markdown",
   "metadata": {},
   "source": [
    "# View\n",
    "\n",
    "any change to the orignal, the view will be affected .And vice Versa"
   ]
  },
  {
   "cell_type": "code",
   "execution_count": 84,
   "metadata": {},
   "outputs": [
    {
     "name": "stdout",
     "output_type": "stream",
     "text": [
      "[1 2 3 4 5]\n",
      "[1 2 3 4 5]\n",
      "[11  2  3  4  5]\n",
      "[11  2  3  4  5]\n",
      "[11 22  3  4  5]\n",
      "[11 22  3  4  5]\n"
     ]
    }
   ],
   "source": [
    "a = np.array([1,2,3,4,5])\n",
    "b = a # b will refer to the same container as a\n",
    "\n",
    "print(a)\n",
    "print(b)\n",
    "\n",
    "\n",
    "# Change the orignal\n",
    "a[0] = 11\n",
    "print(a)\n",
    "print(b) # b will get the same changes\n",
    "\n",
    "# Change the reference\n",
    "b[1] = 22\n",
    "print(a) # a will get the same changes as b\n",
    "print(b)"
   ]
  },
  {
   "attachments": {},
   "cell_type": "markdown",
   "metadata": {},
   "source": [
    "# Copy\n",
    "\n",
    "Unterschiedliche Containers"
   ]
  },
  {
   "cell_type": "code",
   "execution_count": 86,
   "metadata": {},
   "outputs": [
    {
     "name": "stdout",
     "output_type": "stream",
     "text": [
      "[1 2 3 4 5]\n",
      "[1 2 3 4 5]\n",
      "[11  2  3  4  5]\n",
      "[1 2 3 4 5]\n",
      "[11  2  3  4  5]\n",
      "[ 1 22  3  4  5]\n"
     ]
    }
   ],
   "source": [
    "a = np.array([1,2,3,4,5])\n",
    "b = a.copy() # create  different container with the same values\n",
    "\n",
    "print(a)\n",
    "print(b)\n",
    "\n",
    "\n",
    "\n",
    "# Change the orignal\n",
    "a[0] = 11\n",
    "print(a)\n",
    "print(b) # b stays same like before\n",
    "\n",
    "# Change the reference\n",
    "b[1] = 22\n",
    "print(a) # a stays same like before\n",
    "print(b)\n"
   ]
  },
  {
   "attachments": {},
   "cell_type": "markdown",
   "metadata": {},
   "source": [
    "# Vertical Stacking of Data"
   ]
  },
  {
   "cell_type": "code",
   "execution_count": 87,
   "metadata": {},
   "outputs": [
    {
     "name": "stdout",
     "output_type": "stream",
     "text": [
      "[[ 1  2]\n",
      " [ 3  4]\n",
      " [ 5  6]\n",
      " [11 12]\n",
      " [13 14]\n",
      " [15 16]]\n"
     ]
    }
   ],
   "source": [
    "a = np.array( [   [1,2], \n",
    "                  [3,4], \n",
    "                  [5,6]   \n",
    "              ])\n",
    "\n",
    "b = np.array( [   [11,12], \n",
    "                  [13,14], \n",
    "                  [15,16]   \n",
    "              ])\n",
    "\n",
    "\n",
    "result = np.vstack( (a, b) )\n",
    "print(result)"
   ]
  },
  {
   "attachments": {},
   "cell_type": "markdown",
   "metadata": {},
   "source": [
    "# Horizontal Stacking of Data\n",
    "\n",
    "add the first row of each container together in one row, then the next rows"
   ]
  },
  {
   "cell_type": "code",
   "execution_count": 88,
   "metadata": {},
   "outputs": [
    {
     "name": "stdout",
     "output_type": "stream",
     "text": [
      "[[ 1  2 11 12]\n",
      " [ 3  4 13 14]\n",
      " [ 5  6 15 16]]\n"
     ]
    }
   ],
   "source": [
    "a = np.array( [   [1,2], \n",
    "                  [3,4], \n",
    "                  [5,6]   \n",
    "              ])\n",
    "\n",
    "b = np.array( [   [11,12], \n",
    "                  [13,14], \n",
    "                  [15,16]   \n",
    "              ])\n",
    "\n",
    "\n",
    "result = np.hstack( (a, b) )\n",
    "print(result)"
   ]
  },
  {
   "attachments": {},
   "cell_type": "markdown",
   "metadata": {},
   "source": [
    "# Where()"
   ]
  },
  {
   "cell_type": "code",
   "execution_count": 89,
   "metadata": {},
   "outputs": [
    {
     "name": "stdout",
     "output_type": "stream",
     "text": [
      "(array([0, 3, 4], dtype=int64),)\n"
     ]
    }
   ],
   "source": [
    "a = np.array([1,2,3,4,5])\n",
    "b = np.array([1,3,2,4,5])\n",
    "\n",
    "# The positions where a == b\n",
    "print(np.where(a == b)) # [0, 3, 4]"
   ]
  },
  {
   "attachments": {},
   "cell_type": "markdown",
   "metadata": {},
   "source": [
    "# Transpose()\n",
    "\n",
    "- 1st column --> 1st row\n",
    "- 2nd column --> 2nd row\n",
    "- ..."
   ]
  },
  {
   "cell_type": "code",
   "execution_count": 92,
   "metadata": {},
   "outputs": [
    {
     "name": "stdout",
     "output_type": "stream",
     "text": [
      "[[1 2]\n",
      " [3 4]\n",
      " [5 6]]\n",
      "\n",
      "[[1 3 5]\n",
      " [2 4 6]]\n"
     ]
    }
   ],
   "source": [
    "a = np.array( [   [1,2], \n",
    "                  [3,4], \n",
    "                  [5,6]   \n",
    "              ])\n",
    "print(a)\n",
    "\n",
    "print()\n",
    "\n",
    "\n",
    "result = a.T # Transpose\n",
    "print(result)"
   ]
  },
  {
   "attachments": {},
   "cell_type": "markdown",
   "metadata": {},
   "source": [
    "# Dates"
   ]
  },
  {
   "cell_type": "code",
   "execution_count": 95,
   "metadata": {},
   "outputs": [
    {
     "name": "stdout",
     "output_type": "stream",
     "text": [
      "2023-02-26\n",
      "2023-02-27\n",
      "2023-02-28\n"
     ]
    }
   ],
   "source": [
    "yesterday = np.datetime64(\"today\", \"D\") - np.timedelta64(1, \"D\")\n",
    "today = np.datetime64(\"today\", \"D\")\n",
    "tomorrow = np.datetime64(\"today\", \"D\") + np.timedelta64(1, \"D\")\n",
    "\n",
    "\n",
    "print(yesterday)\n",
    "print(today)\n",
    "print(tomorrow)"
   ]
  },
  {
   "cell_type": "code",
   "execution_count": 96,
   "metadata": {},
   "outputs": [
    {
     "name": "stdout",
     "output_type": "stream",
     "text": [
      "['2023-02-27' '2023-02-28' '2023-03-01' '2023-03-02' '2023-03-03'\n",
      " '2023-03-04' '2023-03-05' '2023-03-06' '2023-03-07' '2023-03-08'\n",
      " '2023-03-09' '2023-03-10' '2023-03-11' '2023-03-12' '2023-03-13'\n",
      " '2023-03-14']\n"
     ]
    }
   ],
   "source": [
    "# Generate Dates between two dates\n",
    "result = np.arange(\"2023-02-27\", \"2023-03-15\", dtype=\"datetime64[D]\")\n",
    "print(result)"
   ]
  }
 ],
 "metadata": {
  "kernelspec": {
   "display_name": "Python 3",
   "language": "python",
   "name": "python3"
  },
  "language_info": {
   "codemirror_mode": {
    "name": "ipython",
    "version": 3
   },
   "file_extension": ".py",
   "mimetype": "text/x-python",
   "name": "python",
   "nbconvert_exporter": "python",
   "pygments_lexer": "ipython3",
   "version": "3.11.0"
  },
  "orig_nbformat": 4,
  "vscode": {
   "interpreter": {
    "hash": "bc29800946e6c292c6b341ea3551f502d208365098dfaf544f85dc6b1a198870"
   }
  }
 },
 "nbformat": 4,
 "nbformat_minor": 2
}
