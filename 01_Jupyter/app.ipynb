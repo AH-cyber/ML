{
 "cells": [
  {
   "attachments": {},
   "cell_type": "markdown",
   "metadata": {},
   "source": [
    "# Jupyter NoteBook\n",
    "\n",
    "- It is one of the best technologies which allows the developer to code and comment the code directly in different markdows.\n",
    "- One can also run Jupyter notebooks in browser\n",
    "- You can use Google Account to write and develop python jupyter notebooks\n",
    "- You can exchange Notebooks with other people with saved/stored results\n",
    "\n",
    "\n",
    "~~~python\n",
    "print(\"Hallo\")\n",
    "~~~"
   ]
  },
  {
   "cell_type": "code",
   "execution_count": 4,
   "metadata": {},
   "outputs": [
    {
     "name": "stdout",
     "output_type": "stream",
     "text": [
      "Hallo Mohamed\n"
     ]
    }
   ],
   "source": [
    "print(\"Hallo Mohamed\")"
   ]
  },
  {
   "attachments": {},
   "cell_type": "markdown",
   "metadata": {},
   "source": [
    "# Header 1"
   ]
  },
  {
   "cell_type": "code",
   "execution_count": 5,
   "metadata": {},
   "outputs": [
    {
     "name": "stdout",
     "output_type": "stream",
     "text": [
      "Hallo Thomas\n"
     ]
    }
   ],
   "source": [
    "print(\"Hallo Thomas\")"
   ]
  },
  {
   "attachments": {},
   "cell_type": "markdown",
   "metadata": {},
   "source": [
    "## Header 1.1"
   ]
  },
  {
   "attachments": {},
   "cell_type": "markdown",
   "metadata": {},
   "source": [
    "## Header 1.2"
   ]
  },
  {
   "attachments": {},
   "cell_type": "markdown",
   "metadata": {},
   "source": [
    "# Header 2"
   ]
  }
 ],
 "metadata": {
  "kernelspec": {
   "display_name": "Python 3",
   "language": "python",
   "name": "python3"
  },
  "language_info": {
   "codemirror_mode": {
    "name": "ipython",
    "version": 3
   },
   "file_extension": ".py",
   "mimetype": "text/x-python",
   "name": "python",
   "nbconvert_exporter": "python",
   "pygments_lexer": "ipython3",
   "version": "3.11.0"
  },
  "orig_nbformat": 4,
  "vscode": {
   "interpreter": {
    "hash": "bc29800946e6c292c6b341ea3551f502d208365098dfaf544f85dc6b1a198870"
   }
  }
 },
 "nbformat": 4,
 "nbformat_minor": 2
}
